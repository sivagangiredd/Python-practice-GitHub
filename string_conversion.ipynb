{
 "cells": [
  {
   "cell_type": "code",
   "execution_count": 1,
   "id": "10b32997-09f0-460c-b97c-f7af913e5688",
   "metadata": {},
   "outputs": [
    {
     "name": "stdout",
     "output_type": "stream",
     "text": [
      "Before : 80 <class 'int'>\n",
      "After : 80 <class 'str'>\n"
     ]
    }
   ],
   "source": [
    "#Integer to string conversion\n",
    "a=80\n",
    "b=str(a)\n",
    "print('Before :',a,type(a))\n",
    "print('After :',b,type(b))"
   ]
  },
  {
   "cell_type": "code",
   "execution_count": null,
   "id": "6cece993-19f6-493e-9fa3-9a3b515329fe",
   "metadata": {},
   "outputs": [],
   "source": [
    "#float to string\n",
    "#a=45.68\n",
    "\n"
   ]
  }
 ],
 "metadata": {
  "kernelspec": {
   "display_name": "Python 3 (ipykernel)",
   "language": "python",
   "name": "python3"
  },
  "language_info": {
   "codemirror_mode": {
    "name": "ipython",
    "version": 3
   },
   "file_extension": ".py",
   "mimetype": "text/x-python",
   "name": "python",
   "nbconvert_exporter": "python",
   "pygments_lexer": "ipython3",
   "version": "3.12.4"
  }
 },
 "nbformat": 4,
 "nbformat_minor": 5
}
