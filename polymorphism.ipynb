{
 "cells": [
  {
   "cell_type": "code",
   "execution_count": 19,
   "id": "799bf5d0-8981-413f-8517-c325210b8bf3",
   "metadata": {},
   "outputs": [
    {
     "name": "stdout",
     "output_type": "stream",
     "text": [
      "Meow Meow\n"
     ]
    }
   ],
   "source": [
    "class Animal():\n",
    "    def sound(self):\n",
    "        print('Animal sound')\n",
    "\n",
    "class Dog(Animal):\n",
    "    def sound(self):\n",
    "        print('Bow bow')\n",
    "\n",
    "class Cat(Animal):\n",
    "    def sound(self):\n",
    "        print('Meow Meow')\n",
    "\n",
    "a=Animal()\n",
    "d=Dog()\n",
    "c=Cat()\n",
    "c.sound()"
   ]
  },
  {
   "cell_type": "code",
   "execution_count": 33,
   "id": "1097cb2a-bfb0-4715-a7c9-b060caa0e2bd",
   "metadata": {},
   "outputs": [
    {
     "name": "stdout",
     "output_type": "stream",
     "text": [
      "5\n",
      "15\n",
      "30\n"
     ]
    }
   ],
   "source": [
    "class Calc:\n",
    "    def add(self,*args):\n",
    "        return sum(args)\n",
    "def main():\n",
    "    result =Calc()\n",
    "\n",
    "print(result.add(5))\n",
    "print(result.add(5,10))\n",
    "print(result.add(5,10,15))\n",
    "main()"
   ]
  },
  {
   "cell_type": "code",
   "execution_count": 3,
   "id": "49d40432-046c-4e22-97bf-c7177c94c998",
   "metadata": {},
   "outputs": [
    {
     "name": "stdin",
     "output_type": "stream",
     "text": [
      " 5.5\n",
      " 3.3\n",
      " 4.3\n"
     ]
    },
    {
     "name": "stdout",
     "output_type": "stream",
     "text": [
      "SBI Interest : 5.5\n",
      "('IndianBank Interest :', 3.3)\n",
      "Canara Bank Interest : 4.3\n"
     ]
    }
   ],
   "source": [
    "class RBI:\n",
    "    def Interest(self):\n",
    "        return \"Interest rate not defined.\"\n",
    "\n",
    "class SBI(RBI):\n",
    "    def Interest(self):\n",
    "        return f\"SBI Interest : {sbi_rate}\"\n",
    "\n",
    "class IndianBank(RBI):\n",
    "    def Interest(self):\n",
    "        return \"IndianBank Interest :\", indianbank_rate\n",
    "\n",
    "class Canara(RBI):\n",
    "    def Interest(self):\n",
    "        return f\"Canara Bank Interest : {canara_rate}\"\n",
    "\n",
    "# Input: Rates of interest for three banks\n",
    "sbi_rate = float(input())\n",
    "indianbank_rate = float(input())\n",
    "canara_rate = float(input())\n",
    "\n",
    "# Create instances and print interest rates\n",
    "print(SBI().Interest())\n",
    "print(IndianBank().Interest())\n",
    "print(Canara().Interest())\n",
    "\n"
   ]
  },
  {
   "cell_type": "code",
   "execution_count": 5,
   "id": "0257c79a-4bb9-4769-9557-05674c730106",
   "metadata": {},
   "outputs": [
    {
     "name": "stdin",
     "output_type": "stream",
     "text": [
      " cat\n",
      " dog\n",
      " bear\n"
     ]
    },
    {
     "name": "stdout",
     "output_type": "stream",
     "text": [
      "cat : I am a Vegetarian\n",
      "dog : I am a Non Vegetarian\n",
      "bear : I eat both\n"
     ]
    }
   ],
   "source": [
    "class Animal:\n",
    "    def food(self, name):\n",
    "        print(f\"{name} : I eat food\")\n",
    "\n",
    "class Herbivores(Animal):\n",
    "    def food(self, name):\n",
    "        print(f\"{name} : I am a Vegetarian\")\n",
    "\n",
    "class Carnivores(Animal):\n",
    "    def food(self, name):\n",
    "        print(f\"{name} : I am a Non Vegetarian\")\n",
    "\n",
    "class Omnivores(Animal):\n",
    "    def food(self, name):\n",
    "        print(f\"{name} : I eat both\")\n",
    "\n",
    "# Input: Names of animals\n",
    "herbivore_name = input()\n",
    "carnivore_name = input()\n",
    "omnivore_name = input()\n",
    "\n",
    "# Create instances and display food habits\n",
    "Herbivores().food(herbivore_name)\n",
    "Carnivores().food(carnivore_name)\n",
    "Omnivores().food(omnivore_name)\n"
   ]
  },
  {
   "cell_type": "code",
   "execution_count": 7,
   "id": "e8eeb4a5-773f-4f69-88da-ba267c913f87",
   "metadata": {},
   "outputs": [
    {
     "name": "stdin",
     "output_type": "stream",
     "text": [
      " 3\n",
      " 5\n"
     ]
    },
    {
     "name": "stdout",
     "output_type": "stream",
     "text": [
      "15\n",
      "7\n"
     ]
    }
   ],
   "source": [
    "class Rectangle:\n",
    "    def area(self, length, breadth):\n",
    "        return length * breadth\n",
    "\n",
    "class Triangle:\n",
    "    def area(self, base, height):\n",
    "        return (base * height) // 2\n",
    "\n",
    "# Input: Dimensions for rectangle and triangle\n",
    "length_base = int(input())\n",
    "breadth_height = int(input())\n",
    "\n",
    "# Create objects and calculate areas\n",
    "rect = Rectangle()\n",
    "tri = Triangle()\n",
    "\n",
    "print(rect.area(length_base, breadth_height))  # Area of rectangle\n",
    "print(tri.area(length_base, breadth_height))   # Area of triangle\n"
   ]
  },
  {
   "cell_type": "code",
   "execution_count": 13,
   "id": "5bf284ad-fcd6-4289-9f56-e01355e5af24",
   "metadata": {},
   "outputs": [
    {
     "name": "stdin",
     "output_type": "stream",
     "text": [
      " 12\n",
      " 12\n"
     ]
    },
    {
     "name": "stdout",
     "output_type": "stream",
     "text": [
      "144\n",
      "72\n"
     ]
    }
   ],
   "source": [
    "class Shape:\n",
    "    def area(self, *args):\n",
    "        pass  # This is a generic method meant to be overridden\n",
    "\n",
    "class Rectangle(Shape):\n",
    "    def area(self, length, breadth):\n",
    "        return length * breadth\n",
    "\n",
    "class Triangle(Shape):\n",
    "    def area(self, base, height):\n",
    "        return (base * height) // 2\n",
    "\n",
    "# Input: Dimensions for rectangle and triangle\n",
    "length_base = int(input())\n",
    "breadth_height = int(input())\n",
    "\n",
    "# Directly create objects and print areas\n",
    "rect = Rectangle()\n",
    "tri = Triangle()\n",
    "\n",
    "print(rect.area(length_base, breadth_height))  # Area of rectangle\n",
    "print(tri.area(length_base, breadth_height))   # Area of triangle\n"
   ]
  },
  {
   "cell_type": "code",
   "execution_count": null,
   "id": "ca57b94d-07f8-4e57-b3c7-2542de487869",
   "metadata": {},
   "outputs": [],
   "source": []
  }
 ],
 "metadata": {
  "kernelspec": {
   "display_name": "Python 3 (ipykernel)",
   "language": "python",
   "name": "python3"
  },
  "language_info": {
   "codemirror_mode": {
    "name": "ipython",
    "version": 3
   },
   "file_extension": ".py",
   "mimetype": "text/x-python",
   "name": "python",
   "nbconvert_exporter": "python",
   "pygments_lexer": "ipython3",
   "version": "3.12.4"
  }
 },
 "nbformat": 4,
 "nbformat_minor": 5
}
