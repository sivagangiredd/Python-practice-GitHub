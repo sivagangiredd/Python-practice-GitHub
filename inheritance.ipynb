{
 "cells": [
  {
   "cell_type": "code",
   "execution_count": 1,
   "id": "e0557648-19d0-41c8-9833-5d8c4a0b4866",
   "metadata": {},
   "outputs": [
    {
     "name": "stdout",
     "output_type": "stream",
     "text": [
      "engine is powerful\n",
      "100km\n"
     ]
    }
   ],
   "source": [
    "class car:\n",
    "    def speed (self):\n",
    "        print('100km')\n",
    "class Audi(car):\n",
    "    def engine(self):\n",
    "        print('engine is powerful')\n",
    "c=Audi()\n",
    "c.engine()\n",
    "c.speed()"
   ]
  },
  {
   "cell_type": "code",
   "execution_count": 5,
   "id": "edf7b2f7-c5bb-42f5-a1fc-0d70c93dbd0e",
   "metadata": {},
   "outputs": [
    {
     "name": "stdout",
     "output_type": "stream",
     "text": [
      "bark\n",
      "Meow meow\n"
     ]
    }
   ],
   "source": [
    "#overriding single inheritance \n",
    "class Animal:\n",
    "    def sound(self):\n",
    "        print('Some genric sound')\n",
    "class Dog(Animal):\n",
    "    def sound(self):\n",
    "        print('bark')\n",
    "class Cat(Animal):\n",
    "    def sound(self):\n",
    "        print('Meow meow')\n",
    "dog=Dog()\n",
    "cat=Cat()\n",
    "dog.sound()\n",
    "cat.sound()\n",
    "\n",
    "    "
   ]
  },
  {
   "cell_type": "code",
   "execution_count": 15,
   "id": "5a3ba752-d061-41ac-8481-29ade1a27ea4",
   "metadata": {},
   "outputs": [
    {
     "name": "stdout",
     "output_type": "stream",
     "text": [
      "add = 12\n",
      "sub = 8\n",
      "mul = 20\n",
      "div = 5.0\n"
     ]
    }
   ],
   "source": [
    "#single inheritance for advance calculator\n",
    "class Calcu:\n",
    "    def add(self,a,b):\n",
    "        print('add =',a+b)\n",
    "    def sub(self,a,b):\n",
    "        print('sub =',a-b)\n",
    "class Adv(Calcu):\n",
    "    def mul(self,a,b):\n",
    "        print('mul =',a*b)\n",
    "    def div(self,a,b):\n",
    "        print('div =',a/b)\n",
    "sum=Adv()\n",
    "sum.add(10,2)\n",
    "sum.sub(10,2)\n",
    "sum.mul(10,2)\n",
    "sum.div(10,2)"
   ]
  },
  {
   "cell_type": "code",
   "execution_count": 45,
   "id": "600f13a5-ea36-4e61-8fa0-44a3f02a641f",
   "metadata": {},
   "outputs": [
    {
     "name": "stdout",
     "output_type": "stream",
     "text": [
      "The total AC-room rent is: 2100\n",
      "The total NonAC-room rent is: 500\n"
     ]
    }
   ],
   "source": [
    "#multiple inherit \n",
    "\n",
    "class AcRoom:\n",
    "    def accalculates(self, no_rooms, days):\n",
    "        if days == 1:\n",
    "            rent_per_day = 450\n",
    "        elif 1 < days <= 5:\n",
    "            rent_per_day = 350\n",
    "        else:  \n",
    "            rent_per_day = 250\n",
    "        \n",
    "        total_rent = no_rooms * rent_per_day * days\n",
    "        return total_rent\n",
    "\n",
    "\n",
    "room = AcRoom()\n",
    "no_rooms = 2 \n",
    "days = 3 \n",
    "total_rent = room.accalculates(no_rooms, days)\n",
    "print(f\"The total AC-room rent is: {total_rent}\")\n",
    "\n",
    "\n",
    "class NormalRoom:\n",
    "    def calculates(self, no_rooms, days):\n",
    "        if days == 1:\n",
    "            rent_per_day = 300\n",
    "        elif 2 <= days <= 5:\n",
    "            rent_per_day = 250\n",
    "        else:  \n",
    "            rent_per_day = 200\n",
    "        \n",
    "        total_rent = no_rooms * rent_per_day * days\n",
    "        return total_rent\n",
    "\n",
    "\n",
    "room = NormalRoom()\n",
    "no_rooms = 1 \n",
    "days = 2  \n",
    "total_rent = room.calculates(no_rooms, days)\n",
    "print(f\"The total NonAC-room rent is: {total_rent}\")"
   ]
  },
  {
   "cell_type": "code",
   "execution_count": null,
   "id": "71210b1d-89bb-4116-8c64-ed6c095eadf5",
   "metadata": {},
   "outputs": [
    {
     "name": "stdin",
     "output_type": "stream",
     "text": [
      " a\n",
      " ss\n"
     ]
    }
   ],
   "source": [
    "class Hotel(AcRoom,NormalRoom):\n",
    "    def __init__(self,name,add,phone):\n",
    "        print('',name)\n",
    "        print('',add)\n",
    "        print('',phone)\n",
    "\n",
    "\n",
    "name=input()\n",
    "add=input()\n",
    "phone=input()\n",
    "h=Hotel(name,add,phone)\n",
    "\n",
    "choice=int(input())\n",
    "if choice==1:\n",
    "    h.calculates(no_room,days)"
   ]
  },
  {
   "cell_type": "code",
   "execution_count": 39,
   "id": "5aa3d291-0e3a-4af4-862f-3c3fcde44a0c",
   "metadata": {},
   "outputs": [
    {
     "name": "stdin",
     "output_type": "stream",
     "text": [
      " dolly\n",
      " 118\n",
      " 15\n",
      " 10\n"
     ]
    },
    {
     "name": "stdout",
     "output_type": "stream",
     "text": [
      "Name  dolly\n",
      "Id 118\n",
      "days 15\n",
      "hours 10\n",
      "total sal 22500\n"
     ]
    }
   ],
   "source": [
    "#Multilevel inheit\n",
    "\n",
    "class Person():\n",
    "    def __init__(self):\n",
    "        self.name=name\n",
    "    def display(self):\n",
    "        print('Name ',self.name)\n",
    "class Staff(Person):\n",
    "    def __init__(self):\n",
    "        super().__init__()\n",
    "        self.Id = Id\n",
    "    def display(self):\n",
    "        super().display()\n",
    "        print('Id',self.Id)\n",
    "class Tempstaff(Staff):\n",
    "    def __init__(self,name,Id,days,hours):\n",
    "        super().__init__()\n",
    "        self.days=days\n",
    "        self.hours=hours\n",
    "    def salary(self):\n",
    "        total=days*hours*150\n",
    "        return total\n",
    "    def display(self):\n",
    "        super().display()\n",
    "        print('days',days)\n",
    "        print('hours',hours)\n",
    "        print('total sal',self.salary())\n",
    "\n",
    "\n",
    "name=input()\n",
    "Id=int(input())\n",
    "days=int(input())\n",
    "hours=int(input())\n",
    "p=Tempstaff(name,Id,days,hours)\n",
    "p.display()   "
   ]
  },
  {
   "cell_type": "code",
   "execution_count": null,
   "id": "8ac400f1-6591-47f8-b8fe-3dd66db7e97a",
   "metadata": {},
   "outputs": [],
   "source": []
  }
 ],
 "metadata": {
  "kernelspec": {
   "display_name": "Python 3 (ipykernel)",
   "language": "python",
   "name": "python3"
  },
  "language_info": {
   "codemirror_mode": {
    "name": "ipython",
    "version": 3
   },
   "file_extension": ".py",
   "mimetype": "text/x-python",
   "name": "python",
   "nbconvert_exporter": "python",
   "pygments_lexer": "ipython3",
   "version": "3.12.4"
  }
 },
 "nbformat": 4,
 "nbformat_minor": 5
}
