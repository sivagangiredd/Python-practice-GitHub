{
 "cells": [
  {
   "cell_type": "code",
   "execution_count": 1,
   "id": "35f33dee-d4e1-4a19-aa3c-add375e6b86e",
   "metadata": {},
   "outputs": [
    {
     "name": "stdout",
     "output_type": "stream",
     "text": [
      "Before : 12 <class 'int'>\n",
      "After : (12+0j) <class 'complex'>\n"
     ]
    }
   ],
   "source": [
    "#integer to complex conversion \n",
    "a=12\n",
    "b=complex(a)\n",
    "print('Before :',a,type(a))\n",
    "print('After :',b,type(b))"
   ]
  },
  {
   "cell_type": "code",
   "execution_count": 5,
   "id": "cacce3ed-065b-420c-a808-6a38a08ced2b",
   "metadata": {},
   "outputs": [
    {
     "name": "stdout",
     "output_type": "stream",
     "text": [
      "Before : 27.6 <class 'float'>\n",
      "After : (27.6+0j) <class 'complex'>\n"
     ]
    }
   ],
   "source": [
    "#float to complex\n",
    "a=27.6\n",
    "b=complex(a)\n",
    "print('Before :',a,type(a))\n",
    "print('After :',b,type(b))"
   ]
  },
  {
   "cell_type": "code",
   "execution_count": 9,
   "id": "a17e1092-6f4c-4707-856d-111cac0ae56c",
   "metadata": {},
   "outputs": [
    {
     "name": "stdout",
     "output_type": "stream",
     "text": [
      "Before : 63 <class 'str'>\n",
      "After : (63+0j) <class 'complex'>\n"
     ]
    }
   ],
   "source": [
    "#string to complex\n",
    "a='63'\n",
    "b=complex(a)\n",
    "print('Before :',a,type(a))\n",
    "print('After :',b,type(b))"
   ]
  },
  {
   "cell_type": "code",
   "execution_count": null,
   "id": "48263d21-89c1-438d-9242-24f187dc0adb",
   "metadata": {},
   "outputs": [],
   "source": []
  }
 ],
 "metadata": {
  "kernelspec": {
   "display_name": "Python 3 (ipykernel)",
   "language": "python",
   "name": "python3"
  },
  "language_info": {
   "codemirror_mode": {
    "name": "ipython",
    "version": 3
   },
   "file_extension": ".py",
   "mimetype": "text/x-python",
   "name": "python",
   "nbconvert_exporter": "python",
   "pygments_lexer": "ipython3",
   "version": "3.12.4"
  }
 },
 "nbformat": 4,
 "nbformat_minor": 5
}
