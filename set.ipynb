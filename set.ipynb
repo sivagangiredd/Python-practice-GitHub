{
 "cells": [
  {
   "cell_type": "code",
   "execution_count": 1,
   "id": "a5af0262-db68-4d59-9e70-dda2d7be3b65",
   "metadata": {},
   "outputs": [
    {
     "name": "stdout",
     "output_type": "stream",
     "text": [
      "5\n"
     ]
    }
   ],
   "source": [
    "set2={2,'pyhton','a',5,9.4}\n",
    "print(len(set2))"
   ]
  },
  {
   "cell_type": "code",
   "execution_count": 3,
   "id": "ad9c76a4-e539-42bb-83d6-791b37e5a8da",
   "metadata": {},
   "outputs": [
    {
     "name": "stdout",
     "output_type": "stream",
     "text": [
      "{2, 5, 9.4, 'a'}\n"
     ]
    }
   ],
   "source": [
    "set2={2,'pyhton','a',5,9.4}\n",
    "set2.remove('pyhton')\n",
    "print(set2)"
   ]
  },
  {
   "cell_type": "code",
   "execution_count": 7,
   "id": "d2781d49-4dc2-4f92-af64-e3e36d459e42",
   "metadata": {},
   "outputs": [
    {
     "name": "stdout",
     "output_type": "stream",
     "text": [
      "{2, 5, 9.4, 'a'}\n"
     ]
    }
   ],
   "source": [
    "set2={2,'pyhton','a',5,9.4}\n",
    "set2.discard('pyhton')\n",
    "print(set2)"
   ]
  },
  {
   "cell_type": "code",
   "execution_count": 11,
   "id": "074231be-a4d0-4ba9-8301-ef2f7f37e350",
   "metadata": {},
   "outputs": [
    {
     "name": "stdout",
     "output_type": "stream",
     "text": [
      "{2, 'pyhton', 'hello', 5, 9.4, 'a'}\n"
     ]
    }
   ],
   "source": [
    "set2={2,'pyhton','a',5,9.4}\n",
    "set2.add('hello')\n",
    "print(set2)"
   ]
  },
  {
   "cell_type": "code",
   "execution_count": 3,
   "id": "a7a9cf29-e1d6-48ff-99a7-52b4d3984c90",
   "metadata": {},
   "outputs": [
    {
     "name": "stdin",
     "output_type": "stream",
     "text": [
      " 2\n",
      " 5\n",
      " 6\n"
     ]
    },
    {
     "name": "stdout",
     "output_type": "stream",
     "text": [
      "{5, 6}\n"
     ]
    }
   ],
   "source": [
    "value=set()\n",
    "n=int(input())\n",
    "for i in range(n):\n",
    "    value.add(int(input()))\n",
    "print(value)"
   ]
  },
  {
   "cell_type": "code",
   "execution_count": 11,
   "id": "897b06a4-d807-4d2d-b1d6-687f6ab8f8d7",
   "metadata": {},
   "outputs": [
    {
     "name": "stdin",
     "output_type": "stream",
     "text": [
      " 50\n"
     ]
    },
    {
     "name": "stdout",
     "output_type": "stream",
     "text": [
      "no its not in the set\n"
     ]
    }
   ],
   "source": [
    "value={6,12,26,10}\n",
    "no=int(input())\n",
    "if no in value:\n",
    "    print('yes it is in the set')\n",
    "else:\n",
    "    print('no its not in the set')"
   ]
  },
  {
   "cell_type": "code",
   "execution_count": 7,
   "id": "825ceff1-d9c8-4a17-a5e6-6e924a574e7b",
   "metadata": {},
   "outputs": [
    {
     "name": "stdout",
     "output_type": "stream",
     "text": [
      "{'Mar', 'Jan', 'Dec', 'Feb'}\n",
      "{'May', 'Oct', 'Jan', 'Mar'}\n"
     ]
    }
   ],
   "source": [
    "month1={'Jan','Feb','Dec','Mar'}\n",
    "month2={'May','Jan','Oct','Mar'}\n",
    "print(month1)\n",
    "print(month2)"
   ]
  },
  {
   "cell_type": "code",
   "execution_count": 15,
   "id": "212aacde-04fd-4e94-b9c0-927a331a9ca0",
   "metadata": {},
   "outputs": [],
   "source": [
    "month=month1 | month2"
   ]
  },
  {
   "cell_type": "code",
   "execution_count": 17,
   "id": "ea46f2dd-4fa5-4f9a-a6e6-aefeb5e4a3ba",
   "metadata": {},
   "outputs": [
    {
     "data": {
      "text/plain": [
       "{'Dec', 'Feb', 'Jan', 'Mar', 'May', 'Oct'}"
      ]
     },
     "execution_count": 17,
     "metadata": {},
     "output_type": "execute_result"
    }
   ],
   "source": [
    "month"
   ]
  },
  {
   "cell_type": "code",
   "execution_count": 19,
   "id": "a68b2a3f-65b0-4e1b-bdbd-f3539c0d8bbf",
   "metadata": {},
   "outputs": [
    {
     "data": {
      "text/plain": [
       "{'Dec', 'Feb', 'Jan', 'Mar', 'May', 'Oct'}"
      ]
     },
     "execution_count": 19,
     "metadata": {},
     "output_type": "execute_result"
    }
   ],
   "source": [
    "month_u=month1.union(month2)\n",
    "month_u"
   ]
  },
  {
   "cell_type": "code",
   "execution_count": 27,
   "id": "16eca80a-43bd-486e-8124-820378f9c5be",
   "metadata": {},
   "outputs": [
    {
     "data": {
      "text/plain": [
       "{'Jan', 'Mar'}"
      ]
     },
     "execution_count": 27,
     "metadata": {},
     "output_type": "execute_result"
    }
   ],
   "source": [
    "month_in=month1.intersection(month2)\n",
    "month_in\n",
    "common=month1 &month2\n",
    "common"
   ]
  },
  {
   "cell_type": "code",
   "execution_count": 9,
   "id": "53edfed0-e73a-4eb5-803e-50ac30f78083",
   "metadata": {},
   "outputs": [
    {
     "data": {
      "text/plain": [
       "{'Dec', 'Feb'}"
      ]
     },
     "execution_count": 9,
     "metadata": {},
     "output_type": "execute_result"
    }
   ],
   "source": [
    "diff=(month1-month2)\n",
    "diff\n",
    "x=month1.difference(month2)\n",
    "x"
   ]
  },
  {
   "cell_type": "code",
   "execution_count": 3,
   "id": "fa319f65-42e6-495a-91e6-644282439ff0",
   "metadata": {},
   "outputs": [
    {
     "name": "stdout",
     "output_type": "stream",
     "text": [
      "True\n",
      "False\n",
      "False\n"
     ]
    }
   ],
   "source": [
    "month1_set={'Jan','Feb','Dec','Mar'}\n",
    "month2_set={'Jan','Feb'}\n",
    "print(month1_set>month2_set) #2 is the subset of 1\n",
    "print(month1_set<month2_set)\n",
    "print(month1_set==month2_set)"
   ]
  },
  {
   "cell_type": "code",
   "execution_count": null,
   "id": "8b8e0650-81a9-4030-902c-c6cbb04e5069",
   "metadata": {},
   "outputs": [],
   "source": []
  }
 ],
 "metadata": {
  "kernelspec": {
   "display_name": "Python 3 (ipykernel)",
   "language": "python",
   "name": "python3"
  },
  "language_info": {
   "codemirror_mode": {
    "name": "ipython",
    "version": 3
   },
   "file_extension": ".py",
   "mimetype": "text/x-python",
   "name": "python",
   "nbconvert_exporter": "python",
   "pygments_lexer": "ipython3",
   "version": "3.12.4"
  }
 },
 "nbformat": 4,
 "nbformat_minor": 5
}
