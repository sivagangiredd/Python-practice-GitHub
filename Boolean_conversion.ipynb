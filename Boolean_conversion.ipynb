{
 "cells": [
  {
   "cell_type": "code",
   "execution_count": 3,
   "id": "2218c531-4285-4dfa-bc8e-eb16356a493f",
   "metadata": {},
   "outputs": [
    {
     "name": "stdout",
     "output_type": "stream",
     "text": [
      "Before : 1 <class 'int'>\n",
      "After : True <class 'bool'>\n"
     ]
    }
   ],
   "source": [
    "#integer to Boolean conversion\n",
    "a=1\n",
    "b=bool(a)\n",
    "print('Before :',a,type(a))\n",
    "print('After :',b,type(b))"
   ]
  },
  {
   "cell_type": "code",
   "execution_count": 13,
   "id": "e984efc3-2b1e-4cba-ada3-6c630e99b22e",
   "metadata": {},
   "outputs": [
    {
     "name": "stdout",
     "output_type": "stream",
     "text": [
      "Before : 1.2 <class 'float'>\n",
      "After : True <class 'bool'>\n"
     ]
    }
   ],
   "source": [
    "#float to boolean\n",
    "a=1.2\n",
    "b=bool(a)\n",
    "print('Before :',a,type(a))\n",
    "print('After :',b,type(b))"
   ]
  },
  {
   "cell_type": "code",
   "execution_count": 17,
   "id": "8dd103ca-32da-468c-9b85-982cea18ede1",
   "metadata": {},
   "outputs": [
    {
     "name": "stdout",
     "output_type": "stream",
     "text": [
      "Before :  <class 'str'>\n",
      "After : False <class 'bool'>\n"
     ]
    }
   ],
   "source": [
    "#string to boolean\n",
    "a=''\n",
    "b=bool(a)\n",
    "print('Before :',a,type(a))\n",
    "print('After :',b,type(b))"
   ]
  },
  {
   "cell_type": "code",
   "execution_count": null,
   "id": "b47c7bc7-8bb1-4f11-b827-04922dabfde4",
   "metadata": {},
   "outputs": [],
   "source": []
  }
 ],
 "metadata": {
  "kernelspec": {
   "display_name": "Python 3 (ipykernel)",
   "language": "python",
   "name": "python3"
  },
  "language_info": {
   "codemirror_mode": {
    "name": "ipython",
    "version": 3
   },
   "file_extension": ".py",
   "mimetype": "text/x-python",
   "name": "python",
   "nbconvert_exporter": "python",
   "pygments_lexer": "ipython3",
   "version": "3.12.4"
  }
 },
 "nbformat": 4,
 "nbformat_minor": 5
}
