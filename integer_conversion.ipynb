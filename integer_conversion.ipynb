{
 "cells": [
  {
   "cell_type": "code",
   "execution_count": 5,
   "id": "2fd649b5-98dc-4e65-ae37-448bf2b047ef",
   "metadata": {},
   "outputs": [
    {
     "name": "stdout",
     "output_type": "stream",
     "text": [
      "Before :\n",
      "10.56 <class 'float'>\n",
      "After :\n",
      "10 <class 'int'>\n"
     ]
    }
   ],
   "source": [
    "#float to integer conversion\n",
    "a=10.56\n",
    "b=int(a)\n",
    "print('Before :')\n",
    "print(a,type(a))\n",
    "print('After :')\n",
    "print(b, type(b))"
   ]
  },
  {
   "cell_type": "code",
   "execution_count": 13,
   "id": "c76a9e7a-68b5-449f-a758-ecefb6e3ef6a",
   "metadata": {},
   "outputs": [
    {
     "name": "stdout",
     "output_type": "stream",
     "text": [
      "Before : 56 <class 'str'>\n",
      "After : 56 <class 'int'>\n"
     ]
    }
   ],
   "source": [
    "#string to interger\n",
    "a='56'\n",
    "b=int(a)\n",
    "print('Before :',a,type(a))\n",
    "print('After :',b, type(b))"
   ]
  },
  {
   "cell_type": "code",
   "execution_count": 15,
   "id": "69e726a2-6cda-4dd7-a1ca-f65a217d55a6",
   "metadata": {},
   "outputs": [
    {
     "name": "stdout",
     "output_type": "stream",
     "text": [
      "Before : True <class 'bool'>\n",
      "After : 1 <class 'int'>\n"
     ]
    }
   ],
   "source": [
    "#boolean to integer\n",
    "a=True\n",
    "b=int(a)\n",
    "print('Before :',a,type(a))\n",
    "print('After :',b, type(b))"
   ]
  },
  {
   "cell_type": "code",
   "execution_count": null,
   "id": "8d1157cc-e345-48f7-a01f-c3e131d5f288",
   "metadata": {},
   "outputs": [],
   "source": []
  }
 ],
 "metadata": {
  "kernelspec": {
   "display_name": "Python 3 (ipykernel)",
   "language": "python",
   "name": "python3"
  },
  "language_info": {
   "codemirror_mode": {
    "name": "ipython",
    "version": 3
   },
   "file_extension": ".py",
   "mimetype": "text/x-python",
   "name": "python",
   "nbconvert_exporter": "python",
   "pygments_lexer": "ipython3",
   "version": "3.12.4"
  }
 },
 "nbformat": 4,
 "nbformat_minor": 5
}
