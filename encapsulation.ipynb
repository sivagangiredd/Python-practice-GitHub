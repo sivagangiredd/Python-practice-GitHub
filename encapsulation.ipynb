{
 "cells": [
  {
   "cell_type": "code",
   "execution_count": 5,
   "id": "9ec06229-0c6c-445e-992f-259293dd9344",
   "metadata": {},
   "outputs": [
    {
     "name": "stdin",
     "output_type": "stream",
     "text": [
      " 15\n"
     ]
    },
    {
     "name": "stdout",
     "output_type": "stream",
     "text": [
      "64\n"
     ]
    }
   ],
   "source": [
    "class Sumodd:\n",
    "    def calc(self):\n",
    "        __n=int(input())\n",
    "        x=0\n",
    "        for i in range(1,__n+1,2):\n",
    "            x+=i\n",
    "        print(x)\n",
    "m=Sumodd()\n",
    "m.calc()"
   ]
  },
  {
   "cell_type": "code",
   "execution_count": 7,
   "id": "a96522ae-d963-4d19-8595-8d657393a7d5",
   "metadata": {},
   "outputs": [
    {
     "name": "stdin",
     "output_type": "stream",
     "text": [
      " 10\n"
     ]
    },
    {
     "name": "stdout",
     "output_type": "stream",
     "text": [
      "Even\n"
     ]
    }
   ],
   "source": [
    "class Check:\n",
    "    def odd(self):\n",
    "        __n=int(input())\n",
    "        if __n%2==0:\n",
    "            print('Even')\n",
    "        else:\n",
    "            print('odd')\n",
    "ob=Check()\n",
    "ob.odd()"
   ]
  },
  {
   "cell_type": "code",
   "execution_count": 37,
   "id": "5c6df916-3d0d-4403-a932-cd277779794b",
   "metadata": {},
   "outputs": [
    {
     "name": "stdout",
     "output_type": "stream",
     "text": [
      "dolly\n"
     ]
    },
    {
     "ename": "NameError",
     "evalue": "name 'bal' is not defined",
     "output_type": "error",
     "traceback": [
      "\u001b[1;31m---------------------------------------------------------------------------\u001b[0m",
      "\u001b[1;31mNameError\u001b[0m                                 Traceback (most recent call last)",
      "Cell \u001b[1;32mIn[37], line 21\u001b[0m\n\u001b[0;32m     19\u001b[0m b\u001b[38;5;241m=\u001b[39mBank(\u001b[38;5;124m'\u001b[39m\u001b[38;5;124mdolly\u001b[39m\u001b[38;5;124m'\u001b[39m,\u001b[38;5;241m1000\u001b[39m)\n\u001b[0;32m     20\u001b[0m b\u001b[38;5;241m.\u001b[39mdisplay()\n\u001b[1;32m---> 21\u001b[0m b\u001b[38;5;241m.\u001b[39mdeposit(\u001b[38;5;241m400\u001b[39m)\n\u001b[0;32m     22\u001b[0m b\u001b[38;5;241m.\u001b[39mWithdraw(\u001b[38;5;241m200\u001b[39m)\n",
      "Cell \u001b[1;32mIn[37], line 10\u001b[0m, in \u001b[0;36mBank.deposit\u001b[1;34m(self, amt)\u001b[0m\n\u001b[0;32m      8\u001b[0m \u001b[38;5;28;01mif\u001b[39;00m amt\u001b[38;5;241m>\u001b[39m\u001b[38;5;241m0\u001b[39m:\n\u001b[0;32m      9\u001b[0m     \u001b[38;5;28mself\u001b[39m\u001b[38;5;241m.\u001b[39m__bal\u001b[38;5;241m+\u001b[39m\u001b[38;5;241m=\u001b[39mamt\n\u001b[1;32m---> 10\u001b[0m     \u001b[38;5;28mprint\u001b[39m(bal)\n\u001b[0;32m     11\u001b[0m \u001b[38;5;28;01melse\u001b[39;00m:\n\u001b[0;32m     12\u001b[0m     \u001b[38;5;28mprint\u001b[39m(\u001b[38;5;124m'\u001b[39m\u001b[38;5;124mdeposite amt\u001b[39m\u001b[38;5;124m'\u001b[39m)\n",
      "\u001b[1;31mNameError\u001b[0m: name 'bal' is not defined"
     ]
    }
   ],
   "source": [
    "class Bank:\n",
    "    def __init__(self,owner,bal=0):\n",
    "        self.owner=owner\n",
    "        self.__bal=bal\n",
    "    def display(self):\n",
    "        print(self.owner)\n",
    "    def deposit(self,amt):\n",
    "        if amt>0:\n",
    "            self.__bal+=amt\n",
    "            print(bal)\n",
    "        else:\n",
    "            print('deposite amt')\n",
    "    def Withdraw(self,amt):\n",
    "        if 0<amt<=self.__bal:\n",
    "            self.__bal-=amt\n",
    "            print(bal)\n",
    "        else:\n",
    "            print('no')\n",
    "b=Bank('dolly',1000)\n",
    "b.display()\n",
    "b.deposit(400)\n",
    "b.Withdraw(200)"
   ]
  },
  {
   "cell_type": "code",
   "execution_count": null,
   "id": "5c2d2e7e-e79c-42e7-8570-e8a317234b40",
   "metadata": {},
   "outputs": [],
   "source": []
  }
 ],
 "metadata": {
  "kernelspec": {
   "display_name": "Python 3 (ipykernel)",
   "language": "python",
   "name": "python3"
  },
  "language_info": {
   "codemirror_mode": {
    "name": "ipython",
    "version": 3
   },
   "file_extension": ".py",
   "mimetype": "text/x-python",
   "name": "python",
   "nbconvert_exporter": "python",
   "pygments_lexer": "ipython3",
   "version": "3.12.4"
  }
 },
 "nbformat": 4,
 "nbformat_minor": 5
}
